{
  "nbformat": 4,
  "nbformat_minor": 0,
  "metadata": {
    "colab": {
      "name": "BTTS prediction.ipynb",
      "provenance": [],
      "collapsed_sections": [],
      "authorship_tag": "ABX9TyN82L5t5RJvByFEb3j5EsP3",
      "include_colab_link": true
    },
    "kernelspec": {
      "name": "python3",
      "display_name": "Python 3"
    },
    "language_info": {
      "name": "python"
    },
    "accelerator": "GPU"
  },
  "cells": [
    {
      "cell_type": "markdown",
      "metadata": {
        "id": "view-in-github",
        "colab_type": "text"
      },
      "source": [
        "<a href=\"https://colab.research.google.com/github/hamzarabi3/BTTS_prediction/blob/main/BTTS_prediction.ipynb\" target=\"_parent\"><img src=\"https://colab.research.google.com/assets/colab-badge.svg\" alt=\"Open In Colab\"/></a>"
      ]
    },
    {
      "cell_type": "markdown",
      "metadata": {
        "id": "Rl6521eh2-rL"
      },
      "source": [
        "## Import Libraries"
      ]
    },
    {
      "cell_type": "code",
      "metadata": {
        "id": "Rnc_3MO1AimJ"
      },
      "source": [
        "import pandas as pd\n",
        "from sklearn.linear_model import LogisticRegression\n",
        "from sklearn.preprocessing import MinMaxScaler\n",
        "from sklearn.metrics  import accuracy_score\n",
        "from joblib import dump, load\n",
        "import numpy as np"
      ],
      "execution_count": null,
      "outputs": []
    },
    {
      "cell_type": "markdown",
      "metadata": {
        "id": "gm9v17R1BS7v"
      },
      "source": [
        "\n",
        "\n",
        "*   Read data file\n",
        "*   Convert datetime column\n",
        "*   Create BTTS column\n",
        "\n"
      ]
    },
    {
      "cell_type": "code",
      "metadata": {
        "id": "tFHrVM-d4u93"
      },
      "source": [
        "df=pd.read_csv('data.csv')\n",
        "df.date_GMT=pd.to_datetime(df['date_GMT'])\n",
        "df['BTTS']=df.apply(lambda raw: 1 if raw.home_team_goal_count > 0 and raw.away_team_goal_count >0 else 0, axis=1)"
      ],
      "execution_count": null,
      "outputs": []
    },
    {
      "cell_type": "code",
      "metadata": {
        "id": "RPGJKjsPX5aP"
      },
      "source": [
        "df.dropna(inplace=True)"
      ],
      "execution_count": null,
      "outputs": []
    },
    {
      "cell_type": "markdown",
      "metadata": {
        "id": "4QFpC_RrBftf"
      },
      "source": [
        "* Team Filter"
      ]
    },
    {
      "cell_type": "code",
      "metadata": {
        "id": "wL9Ll6PVPfCo"
      },
      "source": [
        "# team='Chelsea'\n",
        "# df=df.query('home_team_name == @team or away_team_name == @team').copy()"
      ],
      "execution_count": null,
      "outputs": []
    },
    {
      "cell_type": "code",
      "metadata": {
        "colab": {
          "base_uri": "https://localhost:8080/"
        },
        "id": "w10PQQ3JP3BF",
        "outputId": "a6ada7d2-1c8c-4e5e-d1d5-caee6b3f982b"
      },
      "source": [
        "df.shape"
      ],
      "execution_count": null,
      "outputs": [
        {
          "output_type": "execute_result",
          "data": {
            "text/plain": [
              "(2660, 24)"
            ]
          },
          "metadata": {},
          "execution_count": 7
        }
      ]
    },
    {
      "cell_type": "markdown",
      "metadata": {
        "id": "W0WxqGmeCtWi"
      },
      "source": [
        "**Split data into train and test**"
      ]
    },
    {
      "cell_type": "code",
      "metadata": {
        "id": "aaHxf-bo50Si"
      },
      "source": [
        "train_df=df.query('date_GMT<\"2018-08-10\"')\n",
        "\n",
        "test_df=df.query('date_GMT>=\"2018-08-10\"')"
      ],
      "execution_count": null,
      "outputs": []
    },
    {
      "cell_type": "code",
      "metadata": {
        "colab": {
          "base_uri": "https://localhost:8080/",
          "height": 708
        },
        "id": "WSvPZuipM0tT",
        "outputId": "b0181c7a-8e88-4865-c90b-469bfa3e463c"
      },
      "source": [
        "train_df.head(10)"
      ],
      "execution_count": null,
      "outputs": [
        {
          "output_type": "execute_result",
          "data": {
            "text/html": [
              "<div>\n",
              "<style scoped>\n",
              "    .dataframe tbody tr th:only-of-type {\n",
              "        vertical-align: middle;\n",
              "    }\n",
              "\n",
              "    .dataframe tbody tr th {\n",
              "        vertical-align: top;\n",
              "    }\n",
              "\n",
              "    .dataframe thead th {\n",
              "        text-align: right;\n",
              "    }\n",
              "</style>\n",
              "<table border=\"1\" class=\"dataframe\">\n",
              "  <thead>\n",
              "    <tr style=\"text-align: right;\">\n",
              "      <th></th>\n",
              "      <th>date_GMT</th>\n",
              "      <th>home_team_name</th>\n",
              "      <th>away_team_name</th>\n",
              "      <th>home_team_goal_count</th>\n",
              "      <th>away_team_goal_count</th>\n",
              "      <th>total_goal_count</th>\n",
              "      <th>total_goals_at_half_time</th>\n",
              "      <th>home_team_corner_count</th>\n",
              "      <th>away_team_corner_count</th>\n",
              "      <th>home_team_yellow_cards</th>\n",
              "      <th>home_team_red_cards</th>\n",
              "      <th>away_team_yellow_cards</th>\n",
              "      <th>away_team_red_cards</th>\n",
              "      <th>home_team_shots</th>\n",
              "      <th>away_team_shots</th>\n",
              "      <th>home_team_shots_on_target</th>\n",
              "      <th>away_team_shots_on_target</th>\n",
              "      <th>home_team_shots_off_target</th>\n",
              "      <th>away_team_shots_off_target</th>\n",
              "      <th>home_team_fouls</th>\n",
              "      <th>away_team_fouls</th>\n",
              "      <th>home_team_possession</th>\n",
              "      <th>away_team_possession</th>\n",
              "      <th>BTTS</th>\n",
              "    </tr>\n",
              "  </thead>\n",
              "  <tbody>\n",
              "    <tr>\n",
              "      <th>0</th>\n",
              "      <td>2012-08-18 14:00:00</td>\n",
              "      <td>Arsenal</td>\n",
              "      <td>Sunderland</td>\n",
              "      <td>0.0</td>\n",
              "      <td>0.0</td>\n",
              "      <td>0.0</td>\n",
              "      <td>0.0</td>\n",
              "      <td>7.0</td>\n",
              "      <td>0.0</td>\n",
              "      <td>0.0</td>\n",
              "      <td>0.0</td>\n",
              "      <td>0.0</td>\n",
              "      <td>0.0</td>\n",
              "      <td>18.0</td>\n",
              "      <td>6.0</td>\n",
              "      <td>4.0</td>\n",
              "      <td>3.0</td>\n",
              "      <td>14.0</td>\n",
              "      <td>3.0</td>\n",
              "      <td>12.0</td>\n",
              "      <td>8.0</td>\n",
              "      <td>74.0</td>\n",
              "      <td>26.0</td>\n",
              "      <td>0</td>\n",
              "    </tr>\n",
              "    <tr>\n",
              "      <th>1</th>\n",
              "      <td>2012-08-18 14:00:00</td>\n",
              "      <td>Fulham</td>\n",
              "      <td>Norwich City</td>\n",
              "      <td>5.0</td>\n",
              "      <td>0.0</td>\n",
              "      <td>5.0</td>\n",
              "      <td>2.0</td>\n",
              "      <td>6.0</td>\n",
              "      <td>3.0</td>\n",
              "      <td>0.0</td>\n",
              "      <td>0.0</td>\n",
              "      <td>0.0</td>\n",
              "      <td>0.0</td>\n",
              "      <td>12.0</td>\n",
              "      <td>7.0</td>\n",
              "      <td>10.0</td>\n",
              "      <td>3.0</td>\n",
              "      <td>2.0</td>\n",
              "      <td>4.0</td>\n",
              "      <td>12.0</td>\n",
              "      <td>11.0</td>\n",
              "      <td>54.0</td>\n",
              "      <td>46.0</td>\n",
              "      <td>0</td>\n",
              "    </tr>\n",
              "    <tr>\n",
              "      <th>2</th>\n",
              "      <td>2012-08-18 14:00:00</td>\n",
              "      <td>Queens Park Rangers</td>\n",
              "      <td>Swansea City</td>\n",
              "      <td>0.0</td>\n",
              "      <td>5.0</td>\n",
              "      <td>5.0</td>\n",
              "      <td>1.0</td>\n",
              "      <td>5.0</td>\n",
              "      <td>3.0</td>\n",
              "      <td>2.0</td>\n",
              "      <td>0.0</td>\n",
              "      <td>2.0</td>\n",
              "      <td>0.0</td>\n",
              "      <td>13.0</td>\n",
              "      <td>12.0</td>\n",
              "      <td>5.0</td>\n",
              "      <td>7.0</td>\n",
              "      <td>8.0</td>\n",
              "      <td>5.0</td>\n",
              "      <td>12.0</td>\n",
              "      <td>15.0</td>\n",
              "      <td>50.0</td>\n",
              "      <td>50.0</td>\n",
              "      <td>0</td>\n",
              "    </tr>\n",
              "    <tr>\n",
              "      <th>3</th>\n",
              "      <td>2012-08-18 14:00:00</td>\n",
              "      <td>Reading</td>\n",
              "      <td>Stoke City</td>\n",
              "      <td>1.0</td>\n",
              "      <td>1.0</td>\n",
              "      <td>2.0</td>\n",
              "      <td>1.0</td>\n",
              "      <td>4.0</td>\n",
              "      <td>3.0</td>\n",
              "      <td>2.0</td>\n",
              "      <td>0.0</td>\n",
              "      <td>5.0</td>\n",
              "      <td>1.0</td>\n",
              "      <td>9.0</td>\n",
              "      <td>8.0</td>\n",
              "      <td>3.0</td>\n",
              "      <td>4.0</td>\n",
              "      <td>6.0</td>\n",
              "      <td>4.0</td>\n",
              "      <td>11.0</td>\n",
              "      <td>17.0</td>\n",
              "      <td>54.0</td>\n",
              "      <td>46.0</td>\n",
              "      <td>1</td>\n",
              "    </tr>\n",
              "    <tr>\n",
              "      <th>4</th>\n",
              "      <td>2012-08-18 14:00:00</td>\n",
              "      <td>West Bromwich Albion</td>\n",
              "      <td>Liverpool</td>\n",
              "      <td>3.0</td>\n",
              "      <td>0.0</td>\n",
              "      <td>3.0</td>\n",
              "      <td>1.0</td>\n",
              "      <td>7.0</td>\n",
              "      <td>3.0</td>\n",
              "      <td>1.0</td>\n",
              "      <td>0.0</td>\n",
              "      <td>4.0</td>\n",
              "      <td>1.0</td>\n",
              "      <td>13.0</td>\n",
              "      <td>10.0</td>\n",
              "      <td>7.0</td>\n",
              "      <td>3.0</td>\n",
              "      <td>6.0</td>\n",
              "      <td>7.0</td>\n",
              "      <td>11.0</td>\n",
              "      <td>12.0</td>\n",
              "      <td>42.0</td>\n",
              "      <td>58.0</td>\n",
              "      <td>0</td>\n",
              "    </tr>\n",
              "    <tr>\n",
              "      <th>5</th>\n",
              "      <td>2012-08-18 14:00:00</td>\n",
              "      <td>West Ham United</td>\n",
              "      <td>Aston Villa</td>\n",
              "      <td>1.0</td>\n",
              "      <td>0.0</td>\n",
              "      <td>1.0</td>\n",
              "      <td>1.0</td>\n",
              "      <td>6.0</td>\n",
              "      <td>4.0</td>\n",
              "      <td>0.0</td>\n",
              "      <td>0.0</td>\n",
              "      <td>1.0</td>\n",
              "      <td>0.0</td>\n",
              "      <td>8.0</td>\n",
              "      <td>8.0</td>\n",
              "      <td>4.0</td>\n",
              "      <td>3.0</td>\n",
              "      <td>4.0</td>\n",
              "      <td>5.0</td>\n",
              "      <td>17.0</td>\n",
              "      <td>9.0</td>\n",
              "      <td>33.0</td>\n",
              "      <td>67.0</td>\n",
              "      <td>0</td>\n",
              "    </tr>\n",
              "    <tr>\n",
              "      <th>6</th>\n",
              "      <td>2012-08-18 16:30:00</td>\n",
              "      <td>Newcastle United</td>\n",
              "      <td>Tottenham Hotspur</td>\n",
              "      <td>2.0</td>\n",
              "      <td>1.0</td>\n",
              "      <td>3.0</td>\n",
              "      <td>0.0</td>\n",
              "      <td>3.0</td>\n",
              "      <td>5.0</td>\n",
              "      <td>2.0</td>\n",
              "      <td>0.0</td>\n",
              "      <td>2.0</td>\n",
              "      <td>0.0</td>\n",
              "      <td>7.0</td>\n",
              "      <td>13.0</td>\n",
              "      <td>5.0</td>\n",
              "      <td>6.0</td>\n",
              "      <td>2.0</td>\n",
              "      <td>7.0</td>\n",
              "      <td>13.0</td>\n",
              "      <td>9.0</td>\n",
              "      <td>56.0</td>\n",
              "      <td>44.0</td>\n",
              "      <td>1</td>\n",
              "    </tr>\n",
              "    <tr>\n",
              "      <th>7</th>\n",
              "      <td>2012-08-19 12:30:00</td>\n",
              "      <td>Wigan Athletic</td>\n",
              "      <td>Chelsea</td>\n",
              "      <td>0.0</td>\n",
              "      <td>2.0</td>\n",
              "      <td>2.0</td>\n",
              "      <td>2.0</td>\n",
              "      <td>7.0</td>\n",
              "      <td>1.0</td>\n",
              "      <td>2.0</td>\n",
              "      <td>0.0</td>\n",
              "      <td>2.0</td>\n",
              "      <td>0.0</td>\n",
              "      <td>14.0</td>\n",
              "      <td>6.0</td>\n",
              "      <td>5.0</td>\n",
              "      <td>4.0</td>\n",
              "      <td>9.0</td>\n",
              "      <td>2.0</td>\n",
              "      <td>16.0</td>\n",
              "      <td>11.0</td>\n",
              "      <td>42.0</td>\n",
              "      <td>58.0</td>\n",
              "      <td>0</td>\n",
              "    </tr>\n",
              "    <tr>\n",
              "      <th>8</th>\n",
              "      <td>2012-08-19 15:00:00</td>\n",
              "      <td>Manchester City</td>\n",
              "      <td>Southampton</td>\n",
              "      <td>3.0</td>\n",
              "      <td>2.0</td>\n",
              "      <td>5.0</td>\n",
              "      <td>1.0</td>\n",
              "      <td>7.0</td>\n",
              "      <td>3.0</td>\n",
              "      <td>1.0</td>\n",
              "      <td>0.0</td>\n",
              "      <td>2.0</td>\n",
              "      <td>0.0</td>\n",
              "      <td>15.0</td>\n",
              "      <td>6.0</td>\n",
              "      <td>9.0</td>\n",
              "      <td>3.0</td>\n",
              "      <td>6.0</td>\n",
              "      <td>3.0</td>\n",
              "      <td>4.0</td>\n",
              "      <td>6.0</td>\n",
              "      <td>64.0</td>\n",
              "      <td>36.0</td>\n",
              "      <td>1</td>\n",
              "    </tr>\n",
              "    <tr>\n",
              "      <th>9</th>\n",
              "      <td>2012-08-20 19:00:00</td>\n",
              "      <td>Everton</td>\n",
              "      <td>Manchester United</td>\n",
              "      <td>1.0</td>\n",
              "      <td>0.0</td>\n",
              "      <td>1.0</td>\n",
              "      <td>0.0</td>\n",
              "      <td>6.0</td>\n",
              "      <td>8.0</td>\n",
              "      <td>1.0</td>\n",
              "      <td>0.0</td>\n",
              "      <td>2.0</td>\n",
              "      <td>0.0</td>\n",
              "      <td>17.0</td>\n",
              "      <td>13.0</td>\n",
              "      <td>8.0</td>\n",
              "      <td>8.0</td>\n",
              "      <td>9.0</td>\n",
              "      <td>5.0</td>\n",
              "      <td>12.0</td>\n",
              "      <td>11.0</td>\n",
              "      <td>42.0</td>\n",
              "      <td>58.0</td>\n",
              "      <td>0</td>\n",
              "    </tr>\n",
              "  </tbody>\n",
              "</table>\n",
              "</div>"
            ],
            "text/plain": [
              "             date_GMT        home_team_name  ... away_team_possession  BTTS\n",
              "0 2012-08-18 14:00:00               Arsenal  ...                 26.0     0\n",
              "1 2012-08-18 14:00:00                Fulham  ...                 46.0     0\n",
              "2 2012-08-18 14:00:00   Queens Park Rangers  ...                 50.0     0\n",
              "3 2012-08-18 14:00:00               Reading  ...                 46.0     1\n",
              "4 2012-08-18 14:00:00  West Bromwich Albion  ...                 58.0     0\n",
              "5 2012-08-18 14:00:00       West Ham United  ...                 67.0     0\n",
              "6 2012-08-18 16:30:00      Newcastle United  ...                 44.0     1\n",
              "7 2012-08-19 12:30:00        Wigan Athletic  ...                 58.0     0\n",
              "8 2012-08-19 15:00:00       Manchester City  ...                 36.0     1\n",
              "9 2012-08-20 19:00:00               Everton  ...                 58.0     0\n",
              "\n",
              "[10 rows x 24 columns]"
            ]
          },
          "metadata": {},
          "execution_count": 9
        }
      ]
    },
    {
      "cell_type": "markdown",
      "metadata": {
        "id": "FauksLI24gw5"
      },
      "source": [
        "## Create a torch dataset "
      ]
    },
    {
      "cell_type": "code",
      "metadata": {
        "id": "AXycrvF17vqH"
      },
      "source": [
        "from torch.utils.data import Dataset, DataLoader\n",
        "import torch\n",
        "from sklearn.preprocessing import MinMaxScaler\n",
        "import pandas as pd\n",
        "import torch.nn as nn\n",
        "from torch.optim import Adam\n",
        "from sklearn.preprocessing import OneHotEncoder"
      ],
      "execution_count": null,
      "outputs": []
    },
    {
      "cell_type": "markdown",
      "metadata": {
        "id": "pwWqIOShDa-F"
      },
      "source": [
        "***Train dataset***"
      ]
    },
    {
      "cell_type": "code",
      "metadata": {
        "id": "f2TJ0wXKPjR0"
      },
      "source": [
        "class TrainDataset(Dataset):\n",
        "  def __init__(self,df,lags):\n",
        "    self.nums=[ 'home_team_goal_count',\n",
        "       'away_team_goal_count', 'total_goal_count', 'total_goals_at_half_time',\n",
        "       'home_team_corner_count', 'away_team_corner_count',\n",
        "       'home_team_yellow_cards', 'home_team_red_cards',\n",
        "       'away_team_yellow_cards', 'away_team_red_cards', 'home_team_shots',\n",
        "       'away_team_shots', 'home_team_shots_on_target',\n",
        "       'away_team_shots_on_target', 'home_team_shots_off_target',\n",
        "       'away_team_shots_off_target', 'home_team_fouls', 'away_team_fouls',\n",
        "       'home_team_possession', 'away_team_possession']\n",
        "       \n",
        "    df=df.reset_index()\n",
        "    self.ohe=OneHotEncoder(handle_unknown='ignore', sparse=False)\n",
        "\n",
        "    self.df_nums=df[self.nums]\n",
        "    self.categ=['home_team_name', 'away_team_name']\n",
        "    self.scaler=MinMaxScaler()\n",
        "    self.df_nums=pd.DataFrame(self.scaler.fit_transform(self.df_nums),index=self.df_nums.index,columns=self.df_nums.columns)\n",
        "    #use one hot encoder\n",
        "    self.df_categ=df[self.categ]\n",
        "    self.df_categ=pd.DataFrame(self.ohe.fit_transform(self.df_categ),index=self.df_categ.index)\n",
        "    self.df_dates=df['date_GMT']\n",
        "    self.label=df['BTTS']\n",
        "    self.len=len(df)\n",
        "    self.lags=lags\n",
        "    self.df=df\n",
        "\n",
        "  def save_scaler(self,file_name='minmax_scaler.joblib'):\n",
        "    from joblib import dump\n",
        "    dump(self.scaler,file_name)\n",
        "\n",
        "  def save_encoder(self,file_name='ohe_encoder.joblib'):\n",
        "    from joblib import dump\n",
        "    dump(self.ohe,file_name)\n",
        "\n",
        "  def __getitem__(self,ix):\n",
        "    x1=torch.tensor(self.df_categ.iloc[ix])\n",
        "    y=torch.tensor(self.label[ix])\n",
        "    #step1 : create a placeholder tensor to put previous matches data\n",
        "    x2=torch.zeros(lags,len(self.nums))\n",
        "    date=self.df_dates[ix]\n",
        "    current_play_day=f'{date.year}-{date.month}-{date.day}'\n",
        "\n",
        "    #step2 : find the index of the last match played but not in the same day\n",
        "    #because most matches played in the same day are programmed at the same hour, meaning we can't use them to predict.\n",
        "\n",
        "    try:\n",
        "      last_match_not_in_same_day_index  =  self.df[self.df.date_GMT<current_play_day].index[-1]\n",
        "    except IndexError:\n",
        "      #this is the first day of play\n",
        "      last_match_not_in_same_day_index=None\n",
        "    \n",
        "    if last_match_not_in_same_day_index != None:\n",
        "      farthest_lag_index  =  (last_match_not_in_same_day_index - self.lags) if (last_match_not_in_same_day_index - self.lags)>=0 else None\n",
        "      if farthest_lag_index != None:\n",
        "        x2=torch.tensor((self.df_nums.iloc[farthest_lag_index : last_match_not_in_same_day_index]).values)\n",
        "      else:\n",
        "        x2[lags-last_match_not_in_same_day_index-1:] =torch.tensor((self.df_nums.iloc[0 : last_match_not_in_same_day_index+1]).values) \n",
        "\n",
        "    x2=x2.reshape((-1,))\n",
        "    x1=x1.reshape((-1,))\n",
        "    x=torch.hstack([x1,x2])\n",
        "    #return x.unsqueeze(dim=0),y.unsqueeze(dim=0)\n",
        "    return x.float(),y.float()\n",
        "  \n",
        "  def __len__(self):\n",
        "    return self.len"
      ],
      "execution_count": null,
      "outputs": []
    },
    {
      "cell_type": "markdown",
      "metadata": {
        "id": "X76jyPIqDjni"
      },
      "source": [
        "***Test dataset***"
      ]
    },
    {
      "cell_type": "code",
      "metadata": {
        "id": "5okIFTzzXQyD"
      },
      "source": [
        "class TestDataset(Dataset):\n",
        "  def __init__(self,dataframe,lags,scaler,ohe,lags_tensor):\n",
        "    self.nums=[ 'home_team_goal_count',\n",
        "       'away_team_goal_count', 'total_goal_count', 'total_goals_at_half_time',\n",
        "       'home_team_corner_count', 'away_team_corner_count',\n",
        "       'home_team_yellow_cards', 'home_team_red_cards',\n",
        "       'away_team_yellow_cards', 'away_team_red_cards', 'home_team_shots',\n",
        "       'away_team_shots', 'home_team_shots_on_target',\n",
        "       'away_team_shots_on_target', 'home_team_shots_off_target',\n",
        "       'away_team_shots_off_target', 'home_team_fouls', 'away_team_fouls',\n",
        "       'home_team_possession', 'away_team_possession']\n",
        "       \n",
        "    dataframe=dataframe.reset_index()\n",
        "    self.dataframe=dataframe\n",
        "    self.lags_tensor=lags_tensor\n",
        "\n",
        "    self.df_nums=dataframe[self.nums]\n",
        "    self.categ=['home_team_name', 'away_team_name']\n",
        "\n",
        "    #transform the data \n",
        "    \n",
        "    self.scaler=scaler \n",
        "    self.ohe=ohe   \n",
        "    self.df_nums=pd.DataFrame(self.scaler.transform(self.df_nums),index=self.df_nums.index,columns=self.df_nums.columns)\n",
        "    self.df_categ=dataframe[self.categ]\n",
        "    self.df_categ=pd.DataFrame(self.ohe.transform(self.df_categ),index=self.df_categ.index)\n",
        "    self.df_dates=dataframe['date_GMT']\n",
        "    self.label=dataframe['BTTS']\n",
        "    self.len=len(dataframe)\n",
        "    self.lags=lags\n",
        "\n",
        "  def __getitem__(self,ix):\n",
        "    x1=torch.tensor(self.df_categ.iloc[ix])\n",
        "    y=torch.tensor(self.label[ix])\n",
        "    #step1 : create a placeholder tensor to put previous matches data\n",
        "    x2=self.lags_tensor\n",
        "    date=self.df_dates[ix]\n",
        "    current_play_day=f'{date.year}-{date.month}-{date.day}'\n",
        "\n",
        "    #step2 : find the index of the last match played but not in the same day\n",
        "    #because most matches played in the same day are programmed at the same hour, meaning we can't use them to predict.\n",
        "\n",
        "    try:\n",
        "      last_match_not_in_same_day_index  =  self.dataframe[self.dataframe.date_GMT<current_play_day].index[-1]\n",
        "    except IndexError:\n",
        "      #this is the first day of play\n",
        "      last_match_not_in_same_day_index=None\n",
        "    \n",
        "    if last_match_not_in_same_day_index != None:\n",
        "      farthest_lag_index  =  (last_match_not_in_same_day_index - self.lags) if (last_match_not_in_same_day_index - self.lags)>=0 else None\n",
        "      if farthest_lag_index != None:\n",
        "        x2=torch.tensor((self.df_nums.iloc[farthest_lag_index : last_match_not_in_same_day_index]).values)\n",
        "      else:\n",
        "        x2[lags-last_match_not_in_same_day_index-1:] =torch.tensor((self.df_nums.iloc[0 : last_match_not_in_same_day_index+1]).values) \n",
        "\n",
        "    x2=x2.reshape((-1,))\n",
        "    x1=x1.reshape((-1,))\n",
        "    x=torch.hstack([x1,x2])\n",
        "    #return x.unsqueeze(dim=0),y.unsqueeze(dim=0)\n",
        "    return x.float(),y.float()\n",
        "  \n",
        "  def __len__(self):\n",
        "    return self.len"
      ],
      "execution_count": null,
      "outputs": []
    },
    {
      "cell_type": "markdown",
      "metadata": {
        "id": "XEH2NyeiDma1"
      },
      "source": [
        "**Choose how many past matches to look at before making a prediction**"
      ]
    },
    {
      "cell_type": "code",
      "metadata": {
        "id": "NVc9j5uzshye"
      },
      "source": [
        "lags=3\n",
        "train_ds=TrainDataset(train_df,lags=lags)"
      ],
      "execution_count": null,
      "outputs": []
    },
    {
      "cell_type": "markdown",
      "metadata": {
        "id": "7e_lknvOD7rU"
      },
      "source": [
        "* Save scaler of numerical features\n",
        "* Save encoder for categorical features"
      ]
    },
    {
      "cell_type": "code",
      "metadata": {
        "id": "MwZBj_Pap8Sr"
      },
      "source": [
        "train_ds.save_scaler()\n",
        "train_ds.save_encoder()"
      ],
      "execution_count": null,
      "outputs": []
    },
    {
      "cell_type": "code",
      "metadata": {
        "id": "xA5XbQaOJtyn"
      },
      "source": [
        "x,y=train_ds[9]"
      ],
      "execution_count": null,
      "outputs": []
    },
    {
      "cell_type": "code",
      "metadata": {
        "id": "7-mgMXXfJyB4"
      },
      "source": [
        "num_features=x.shape[0]"
      ],
      "execution_count": null,
      "outputs": []
    },
    {
      "cell_type": "markdown",
      "metadata": {
        "id": "y-PuO-VHJtDI"
      },
      "source": [
        "* For testing load the scaler and ecoder \n",
        "* Create the first lag tensor being the last one in the train dataset"
      ]
    },
    {
      "cell_type": "code",
      "metadata": {
        "id": "utNEzVD73hd8"
      },
      "source": [
        "#for testing create the a lags_tensor for the first prediction\n",
        "from joblib import load, dump\n",
        "\n",
        "\n",
        "nums=[ 'home_team_goal_count',\n",
        "       'away_team_goal_count', 'total_goal_count', 'total_goals_at_half_time',\n",
        "       'home_team_corner_count', 'away_team_corner_count',\n",
        "       'home_team_yellow_cards', 'home_team_red_cards',\n",
        "       'away_team_yellow_cards', 'away_team_red_cards', 'home_team_shots',\n",
        "       'away_team_shots', 'home_team_shots_on_target',\n",
        "       'away_team_shots_on_target', 'home_team_shots_off_target',\n",
        "       'away_team_shots_off_target', 'home_team_fouls', 'away_team_fouls',\n",
        "       'home_team_possession', 'away_team_possession']\n",
        "\n",
        "\n",
        "\n",
        "mm_scaler=load('/content/minmax_scaler.joblib')\n",
        "ohe_encoder=load('/content/ohe_encoder.joblib')\n",
        "\n",
        "lags_tensor=train_df.iloc[-lags:][nums]\n",
        "lags_tensor=torch.tensor(mm_scaler.transform(lags_tensor))"
      ],
      "execution_count": null,
      "outputs": []
    },
    {
      "cell_type": "code",
      "metadata": {
        "id": "LVM1Vw0FbJ4l"
      },
      "source": [
        "test_ds=TestDataset(test_df,lags,mm_scaler,ohe_encoder,lags_tensor)"
      ],
      "execution_count": null,
      "outputs": []
    },
    {
      "cell_type": "markdown",
      "metadata": {
        "id": "wWciv6RxEv4V"
      },
      "source": [
        "## Build the model"
      ]
    },
    {
      "cell_type": "markdown",
      "metadata": {
        "id": "ZXFoKIUrE7-7"
      },
      "source": [
        "**Utility functions**"
      ]
    },
    {
      "cell_type": "code",
      "metadata": {
        "id": "7xv1yX241v7-"
      },
      "source": [
        "device='cuda' if torch.cuda.is_available() else 'cpu'\n",
        "#device='cpu'\n",
        "\n",
        "def get_model():\n",
        "  model=nn.Sequential(\n",
        "      \n",
        "      nn.Linear(num_features,out_features=1)\n",
        "\n",
        "  )\n",
        "  \n",
        "  lossfn=nn.BCEWithLogitsLoss()\n",
        "  optim=Adam(model.parameters())\n",
        "  return model.to(device), lossfn, optim\n",
        "\n",
        "def binary_acc(y_pred, y_test):\n",
        "    y_pred_tag = torch.round(torch.sigmoid(y_pred))\n",
        "\n",
        "    correct_results_sum = (y_pred_tag == y_test).sum().float()\n",
        "    acc = correct_results_sum/y_test.shape[0]\n",
        "    \n",
        "    return acc"
      ],
      "execution_count": null,
      "outputs": []
    },
    {
      "cell_type": "code",
      "metadata": {
        "id": "wDnLYO_n75rG"
      },
      "source": [
        "train_loader = DataLoader(train_ds,batch_size=64)\n",
        "model, loss_fn, optimizer = get_model()"
      ],
      "execution_count": null,
      "outputs": []
    },
    {
      "cell_type": "markdown",
      "metadata": {
        "id": "4pznpyr0E5Z7"
      },
      "source": [
        "**Training loop**"
      ]
    },
    {
      "cell_type": "code",
      "metadata": {
        "colab": {
          "base_uri": "https://localhost:8080/"
        },
        "id": "saHeLl56887U",
        "outputId": "9c52ee08-3507-4bca-c848-4a936318df34"
      },
      "source": [
        "EPOCHS=15\n",
        "\n",
        "model.train()\n",
        "for e in range(1, EPOCHS+1):\n",
        "    epoch_loss = 0\n",
        "    epoch_acc = 0\n",
        "    for X_batch, y_batch in train_loader:\n",
        "        X_batch, y_batch = X_batch.to(device), y_batch.to(device)\n",
        "        optimizer.zero_grad()\n",
        "        \n",
        "        y_pred = model(X_batch)\n",
        "        \n",
        "        loss = loss_fn(y_pred, y_batch.unsqueeze(1))\n",
        "        acc = binary_acc(y_pred, y_batch.unsqueeze(1))\n",
        "        \n",
        "        loss.backward()\n",
        "        optimizer.step()\n",
        "        \n",
        "        epoch_loss += loss.item()\n",
        "        epoch_acc += acc.item()\n",
        "        \n",
        "    print(f'Epoch {e+0:03}: | Loss: {epoch_loss/len(train_loader):.5f} | Acc: {epoch_acc/len(train_loader):.3f}')"
      ],
      "execution_count": null,
      "outputs": [
        {
          "output_type": "stream",
          "name": "stdout",
          "text": [
            "Epoch 001: | Loss: 0.69557 | Acc: 0.490\n",
            "Epoch 002: | Loss: 0.69398 | Acc: 0.500\n",
            "Epoch 003: | Loss: 0.69331 | Acc: 0.505\n",
            "Epoch 004: | Loss: 0.69261 | Acc: 0.511\n",
            "Epoch 005: | Loss: 0.69195 | Acc: 0.515\n",
            "Epoch 006: | Loss: 0.69131 | Acc: 0.516\n",
            "Epoch 007: | Loss: 0.69070 | Acc: 0.518\n",
            "Epoch 008: | Loss: 0.69011 | Acc: 0.522\n",
            "Epoch 009: | Loss: 0.68955 | Acc: 0.537\n",
            "Epoch 010: | Loss: 0.68902 | Acc: 0.539\n",
            "Epoch 011: | Loss: 0.68850 | Acc: 0.541\n",
            "Epoch 012: | Loss: 0.68801 | Acc: 0.540\n",
            "Epoch 013: | Loss: 0.68754 | Acc: 0.544\n",
            "Epoch 014: | Loss: 0.68709 | Acc: 0.545\n",
            "Epoch 015: | Loss: 0.68665 | Acc: 0.548\n"
          ]
        }
      ]
    },
    {
      "cell_type": "markdown",
      "metadata": {
        "id": "QZeQdYysCifK"
      },
      "source": [
        "**Testing the model**"
      ]
    },
    {
      "cell_type": "code",
      "metadata": {
        "id": "zXWT_azY4Mod"
      },
      "source": [
        "test_loader = DataLoader(test_ds,batch_size=64)"
      ],
      "execution_count": null,
      "outputs": []
    },
    {
      "cell_type": "code",
      "metadata": {
        "id": "tUsD6vT-REpu"
      },
      "source": [
        "x,y=test_ds[0]"
      ],
      "execution_count": null,
      "outputs": []
    },
    {
      "cell_type": "code",
      "metadata": {
        "colab": {
          "base_uri": "https://localhost:8080/"
        },
        "id": "S24bYMN5RLmt",
        "outputId": "74b89bab-1ef1-4552-8b4b-ac1917c096cd"
      },
      "source": [
        "len(test_ds)"
      ],
      "execution_count": null,
      "outputs": [
        {
          "output_type": "execute_result",
          "data": {
            "text/plain": [
              "380"
            ]
          },
          "metadata": {},
          "execution_count": 24
        }
      ]
    },
    {
      "cell_type": "code",
      "metadata": {
        "id": "DEMyc--K9pu7"
      },
      "source": [
        "accs = 0\n",
        "preds=np.array([])\n",
        "model.eval()\n",
        "with torch.no_grad():\n",
        "    for X_batch,y in test_loader:\n",
        "        X_batch = X_batch.to(device)\n",
        "        y_test_pred = model(X_batch)\n",
        "        preds=np.concatenate([preds,y_test_pred.cpu().numpy().flatten()])"
      ],
      "execution_count": null,
      "outputs": []
    },
    {
      "cell_type": "code",
      "metadata": {
        "id": "t_E3NE-i5vyC"
      },
      "source": [
        "y=test_df.BTTS.values"
      ],
      "execution_count": null,
      "outputs": []
    },
    {
      "cell_type": "code",
      "metadata": {
        "colab": {
          "base_uri": "https://localhost:8080/"
        },
        "id": "Vs2vykVjMch9",
        "outputId": "282481ba-4041-4d03-f9c3-be0e6118384f"
      },
      "source": [
        "binary_acc(torch.tensor(preds),torch.tensor(y)).item()*100"
      ],
      "execution_count": null,
      "outputs": [
        {
          "output_type": "execute_result",
          "data": {
            "text/plain": [
              "52.63158082962036"
            ]
          },
          "metadata": {},
          "execution_count": 27
        }
      ]
    },
    {
      "cell_type": "code",
      "metadata": {
        "id": "7P1GJ7spJTBN"
      },
      "source": [
        "import warnings\n",
        "import scipy\n",
        "warnings.filterwarnings(\"ignore\")\n",
        "test_df.loc[:,'tempBTTS']=np.round(scipy.special.expit(preds))"
      ],
      "execution_count": null,
      "outputs": []
    },
    {
      "cell_type": "code",
      "metadata": {
        "colab": {
          "base_uri": "https://localhost:8080/",
          "height": 767
        },
        "id": "D54WeWPNJ0oV",
        "outputId": "a38f4b42-7eeb-4d31-d40b-f73ab8638e59"
      },
      "source": [
        "test_df.head(len(test_df))"
      ],
      "execution_count": null,
      "outputs": [
        {
          "output_type": "execute_result",
          "data": {
            "text/html": [
              "<div>\n",
              "<style scoped>\n",
              "    .dataframe tbody tr th:only-of-type {\n",
              "        vertical-align: middle;\n",
              "    }\n",
              "\n",
              "    .dataframe tbody tr th {\n",
              "        vertical-align: top;\n",
              "    }\n",
              "\n",
              "    .dataframe thead th {\n",
              "        text-align: right;\n",
              "    }\n",
              "</style>\n",
              "<table border=\"1\" class=\"dataframe\">\n",
              "  <thead>\n",
              "    <tr style=\"text-align: right;\">\n",
              "      <th></th>\n",
              "      <th>date_GMT</th>\n",
              "      <th>home_team_name</th>\n",
              "      <th>away_team_name</th>\n",
              "      <th>home_team_goal_count</th>\n",
              "      <th>away_team_goal_count</th>\n",
              "      <th>total_goal_count</th>\n",
              "      <th>total_goals_at_half_time</th>\n",
              "      <th>home_team_corner_count</th>\n",
              "      <th>away_team_corner_count</th>\n",
              "      <th>home_team_yellow_cards</th>\n",
              "      <th>home_team_red_cards</th>\n",
              "      <th>away_team_yellow_cards</th>\n",
              "      <th>away_team_red_cards</th>\n",
              "      <th>home_team_shots</th>\n",
              "      <th>away_team_shots</th>\n",
              "      <th>home_team_shots_on_target</th>\n",
              "      <th>away_team_shots_on_target</th>\n",
              "      <th>home_team_shots_off_target</th>\n",
              "      <th>away_team_shots_off_target</th>\n",
              "      <th>home_team_fouls</th>\n",
              "      <th>away_team_fouls</th>\n",
              "      <th>home_team_possession</th>\n",
              "      <th>away_team_possession</th>\n",
              "      <th>BTTS</th>\n",
              "      <th>tempBTTS</th>\n",
              "    </tr>\n",
              "  </thead>\n",
              "  <tbody>\n",
              "    <tr>\n",
              "      <th>2282</th>\n",
              "      <td>2018-08-10 19:00:00</td>\n",
              "      <td>Manchester United</td>\n",
              "      <td>Leicester City</td>\n",
              "      <td>2.0</td>\n",
              "      <td>1.0</td>\n",
              "      <td>3.0</td>\n",
              "      <td>1.0</td>\n",
              "      <td>2.0</td>\n",
              "      <td>5.0</td>\n",
              "      <td>2.0</td>\n",
              "      <td>0.0</td>\n",
              "      <td>1.0</td>\n",
              "      <td>0.0</td>\n",
              "      <td>8.0</td>\n",
              "      <td>8.0</td>\n",
              "      <td>7.0</td>\n",
              "      <td>5.0</td>\n",
              "      <td>1.0</td>\n",
              "      <td>3.0</td>\n",
              "      <td>11.0</td>\n",
              "      <td>8.0</td>\n",
              "      <td>46.0</td>\n",
              "      <td>54.0</td>\n",
              "      <td>1</td>\n",
              "      <td>0.0</td>\n",
              "    </tr>\n",
              "    <tr>\n",
              "      <th>2283</th>\n",
              "      <td>2018-08-11 11:30:00</td>\n",
              "      <td>Newcastle United</td>\n",
              "      <td>Tottenham Hotspur</td>\n",
              "      <td>1.0</td>\n",
              "      <td>2.0</td>\n",
              "      <td>3.0</td>\n",
              "      <td>3.0</td>\n",
              "      <td>3.0</td>\n",
              "      <td>5.0</td>\n",
              "      <td>2.0</td>\n",
              "      <td>0.0</td>\n",
              "      <td>2.0</td>\n",
              "      <td>0.0</td>\n",
              "      <td>11.0</td>\n",
              "      <td>13.0</td>\n",
              "      <td>3.0</td>\n",
              "      <td>6.0</td>\n",
              "      <td>8.0</td>\n",
              "      <td>7.0</td>\n",
              "      <td>11.0</td>\n",
              "      <td>12.0</td>\n",
              "      <td>40.0</td>\n",
              "      <td>60.0</td>\n",
              "      <td>1</td>\n",
              "      <td>1.0</td>\n",
              "    </tr>\n",
              "    <tr>\n",
              "      <th>2284</th>\n",
              "      <td>2018-08-11 14:00:00</td>\n",
              "      <td>AFC Bournemouth</td>\n",
              "      <td>Cardiff City</td>\n",
              "      <td>2.0</td>\n",
              "      <td>0.0</td>\n",
              "      <td>2.0</td>\n",
              "      <td>1.0</td>\n",
              "      <td>7.0</td>\n",
              "      <td>4.0</td>\n",
              "      <td>1.0</td>\n",
              "      <td>0.0</td>\n",
              "      <td>1.0</td>\n",
              "      <td>0.0</td>\n",
              "      <td>11.0</td>\n",
              "      <td>7.0</td>\n",
              "      <td>5.0</td>\n",
              "      <td>2.0</td>\n",
              "      <td>6.0</td>\n",
              "      <td>5.0</td>\n",
              "      <td>11.0</td>\n",
              "      <td>9.0</td>\n",
              "      <td>62.0</td>\n",
              "      <td>38.0</td>\n",
              "      <td>0</td>\n",
              "      <td>0.0</td>\n",
              "    </tr>\n",
              "    <tr>\n",
              "      <th>2285</th>\n",
              "      <td>2018-08-11 14:00:00</td>\n",
              "      <td>Fulham</td>\n",
              "      <td>Crystal Palace</td>\n",
              "      <td>0.0</td>\n",
              "      <td>2.0</td>\n",
              "      <td>2.0</td>\n",
              "      <td>1.0</td>\n",
              "      <td>5.0</td>\n",
              "      <td>5.0</td>\n",
              "      <td>1.0</td>\n",
              "      <td>0.0</td>\n",
              "      <td>2.0</td>\n",
              "      <td>0.0</td>\n",
              "      <td>11.0</td>\n",
              "      <td>11.0</td>\n",
              "      <td>7.0</td>\n",
              "      <td>11.0</td>\n",
              "      <td>4.0</td>\n",
              "      <td>0.0</td>\n",
              "      <td>9.0</td>\n",
              "      <td>11.0</td>\n",
              "      <td>66.0</td>\n",
              "      <td>34.0</td>\n",
              "      <td>0</td>\n",
              "      <td>1.0</td>\n",
              "    </tr>\n",
              "    <tr>\n",
              "      <th>2286</th>\n",
              "      <td>2018-08-11 14:00:00</td>\n",
              "      <td>Huddersfield Town</td>\n",
              "      <td>Chelsea</td>\n",
              "      <td>0.0</td>\n",
              "      <td>3.0</td>\n",
              "      <td>3.0</td>\n",
              "      <td>2.0</td>\n",
              "      <td>2.0</td>\n",
              "      <td>5.0</td>\n",
              "      <td>2.0</td>\n",
              "      <td>0.0</td>\n",
              "      <td>1.0</td>\n",
              "      <td>0.0</td>\n",
              "      <td>6.0</td>\n",
              "      <td>8.0</td>\n",
              "      <td>2.0</td>\n",
              "      <td>5.0</td>\n",
              "      <td>4.0</td>\n",
              "      <td>3.0</td>\n",
              "      <td>9.0</td>\n",
              "      <td>8.0</td>\n",
              "      <td>37.0</td>\n",
              "      <td>63.0</td>\n",
              "      <td>0</td>\n",
              "      <td>0.0</td>\n",
              "    </tr>\n",
              "    <tr>\n",
              "      <th>...</th>\n",
              "      <td>...</td>\n",
              "      <td>...</td>\n",
              "      <td>...</td>\n",
              "      <td>...</td>\n",
              "      <td>...</td>\n",
              "      <td>...</td>\n",
              "      <td>...</td>\n",
              "      <td>...</td>\n",
              "      <td>...</td>\n",
              "      <td>...</td>\n",
              "      <td>...</td>\n",
              "      <td>...</td>\n",
              "      <td>...</td>\n",
              "      <td>...</td>\n",
              "      <td>...</td>\n",
              "      <td>...</td>\n",
              "      <td>...</td>\n",
              "      <td>...</td>\n",
              "      <td>...</td>\n",
              "      <td>...</td>\n",
              "      <td>...</td>\n",
              "      <td>...</td>\n",
              "      <td>...</td>\n",
              "      <td>...</td>\n",
              "      <td>...</td>\n",
              "    </tr>\n",
              "    <tr>\n",
              "      <th>2657</th>\n",
              "      <td>2019-05-12 14:00:00</td>\n",
              "      <td>Liverpool</td>\n",
              "      <td>Wolverhampton Wanderers</td>\n",
              "      <td>2.0</td>\n",
              "      <td>0.0</td>\n",
              "      <td>2.0</td>\n",
              "      <td>1.0</td>\n",
              "      <td>4.0</td>\n",
              "      <td>1.0</td>\n",
              "      <td>0.0</td>\n",
              "      <td>0.0</td>\n",
              "      <td>2.0</td>\n",
              "      <td>0.0</td>\n",
              "      <td>11.0</td>\n",
              "      <td>7.0</td>\n",
              "      <td>6.0</td>\n",
              "      <td>3.0</td>\n",
              "      <td>5.0</td>\n",
              "      <td>4.0</td>\n",
              "      <td>3.0</td>\n",
              "      <td>11.0</td>\n",
              "      <td>59.0</td>\n",
              "      <td>41.0</td>\n",
              "      <td>0</td>\n",
              "      <td>1.0</td>\n",
              "    </tr>\n",
              "    <tr>\n",
              "      <th>2658</th>\n",
              "      <td>2019-05-12 14:00:00</td>\n",
              "      <td>Manchester United</td>\n",
              "      <td>Cardiff City</td>\n",
              "      <td>0.0</td>\n",
              "      <td>2.0</td>\n",
              "      <td>2.0</td>\n",
              "      <td>1.0</td>\n",
              "      <td>11.0</td>\n",
              "      <td>2.0</td>\n",
              "      <td>3.0</td>\n",
              "      <td>0.0</td>\n",
              "      <td>3.0</td>\n",
              "      <td>0.0</td>\n",
              "      <td>21.0</td>\n",
              "      <td>11.0</td>\n",
              "      <td>11.0</td>\n",
              "      <td>5.0</td>\n",
              "      <td>10.0</td>\n",
              "      <td>6.0</td>\n",
              "      <td>9.0</td>\n",
              "      <td>6.0</td>\n",
              "      <td>73.0</td>\n",
              "      <td>27.0</td>\n",
              "      <td>0</td>\n",
              "      <td>0.0</td>\n",
              "    </tr>\n",
              "    <tr>\n",
              "      <th>2659</th>\n",
              "      <td>2019-05-12 14:00:00</td>\n",
              "      <td>Southampton</td>\n",
              "      <td>Huddersfield Town</td>\n",
              "      <td>1.0</td>\n",
              "      <td>1.0</td>\n",
              "      <td>2.0</td>\n",
              "      <td>1.0</td>\n",
              "      <td>4.0</td>\n",
              "      <td>3.0</td>\n",
              "      <td>0.0</td>\n",
              "      <td>0.0</td>\n",
              "      <td>1.0</td>\n",
              "      <td>0.0</td>\n",
              "      <td>7.0</td>\n",
              "      <td>8.0</td>\n",
              "      <td>4.0</td>\n",
              "      <td>4.0</td>\n",
              "      <td>3.0</td>\n",
              "      <td>4.0</td>\n",
              "      <td>8.0</td>\n",
              "      <td>6.0</td>\n",
              "      <td>53.0</td>\n",
              "      <td>47.0</td>\n",
              "      <td>1</td>\n",
              "      <td>0.0</td>\n",
              "    </tr>\n",
              "    <tr>\n",
              "      <th>2660</th>\n",
              "      <td>2019-05-12 14:00:00</td>\n",
              "      <td>Tottenham Hotspur</td>\n",
              "      <td>Everton</td>\n",
              "      <td>2.0</td>\n",
              "      <td>2.0</td>\n",
              "      <td>4.0</td>\n",
              "      <td>1.0</td>\n",
              "      <td>7.0</td>\n",
              "      <td>4.0</td>\n",
              "      <td>0.0</td>\n",
              "      <td>0.0</td>\n",
              "      <td>2.0</td>\n",
              "      <td>0.0</td>\n",
              "      <td>9.0</td>\n",
              "      <td>13.0</td>\n",
              "      <td>4.0</td>\n",
              "      <td>10.0</td>\n",
              "      <td>5.0</td>\n",
              "      <td>3.0</td>\n",
              "      <td>10.0</td>\n",
              "      <td>13.0</td>\n",
              "      <td>55.0</td>\n",
              "      <td>45.0</td>\n",
              "      <td>1</td>\n",
              "      <td>1.0</td>\n",
              "    </tr>\n",
              "    <tr>\n",
              "      <th>2661</th>\n",
              "      <td>2019-05-12 14:00:00</td>\n",
              "      <td>Watford</td>\n",
              "      <td>West Ham United</td>\n",
              "      <td>1.0</td>\n",
              "      <td>4.0</td>\n",
              "      <td>5.0</td>\n",
              "      <td>2.0</td>\n",
              "      <td>7.0</td>\n",
              "      <td>2.0</td>\n",
              "      <td>1.0</td>\n",
              "      <td>1.0</td>\n",
              "      <td>0.0</td>\n",
              "      <td>0.0</td>\n",
              "      <td>11.0</td>\n",
              "      <td>15.0</td>\n",
              "      <td>9.0</td>\n",
              "      <td>10.0</td>\n",
              "      <td>2.0</td>\n",
              "      <td>5.0</td>\n",
              "      <td>10.0</td>\n",
              "      <td>10.0</td>\n",
              "      <td>48.0</td>\n",
              "      <td>52.0</td>\n",
              "      <td>1</td>\n",
              "      <td>1.0</td>\n",
              "    </tr>\n",
              "  </tbody>\n",
              "</table>\n",
              "<p>380 rows × 25 columns</p>\n",
              "</div>"
            ],
            "text/plain": [
              "                date_GMT     home_team_name  ... BTTS  tempBTTS\n",
              "2282 2018-08-10 19:00:00  Manchester United  ...    1       0.0\n",
              "2283 2018-08-11 11:30:00   Newcastle United  ...    1       1.0\n",
              "2284 2018-08-11 14:00:00    AFC Bournemouth  ...    0       0.0\n",
              "2285 2018-08-11 14:00:00             Fulham  ...    0       1.0\n",
              "2286 2018-08-11 14:00:00  Huddersfield Town  ...    0       0.0\n",
              "...                  ...                ...  ...  ...       ...\n",
              "2657 2019-05-12 14:00:00          Liverpool  ...    0       1.0\n",
              "2658 2019-05-12 14:00:00  Manchester United  ...    0       0.0\n",
              "2659 2019-05-12 14:00:00        Southampton  ...    1       0.0\n",
              "2660 2019-05-12 14:00:00  Tottenham Hotspur  ...    1       1.0\n",
              "2661 2019-05-12 14:00:00            Watford  ...    1       1.0\n",
              "\n",
              "[380 rows x 25 columns]"
            ]
          },
          "metadata": {},
          "execution_count": 29
        }
      ]
    },
    {
      "cell_type": "code",
      "metadata": {
        "id": "fjBTKypcMH7X"
      },
      "source": [
        ""
      ],
      "execution_count": null,
      "outputs": []
    }
  ]
}